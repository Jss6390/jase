{
 "cells": [
  {
   "cell_type": "markdown",
   "metadata": {},
   "source": [
    "# 제3장 Python 기초문법"
   ]
  },
  {
   "cell_type": "markdown",
   "metadata": {},
   "source": [
    "## 1. 기본연산"
   ]
  },
  {
   "cell_type": "markdown",
   "metadata": {},
   "source": [
    "### 산술연산"
   ]
  },
  {
   "cell_type": "code",
   "execution_count": 1,
   "metadata": {},
   "outputs": [
    {
     "name": "stdout",
     "output_type": "stream",
     "text": [
      "579\n",
      "333\n",
      "100400\n",
      "41.040650406504064\n"
     ]
    }
   ],
   "source": [
    "print(123 + 456)   # + : 덧셈\n",
    "print(456 - 123)   # - : 뺄셈\n",
    "print(100 * 1004)  # * : 곱셈\n",
    "print(5048 / 123)       # / : 나눗셈"
   ]
  },
  {
   "cell_type": "code",
   "execution_count": 2,
   "metadata": {},
   "outputs": [
    {
     "name": "stdout",
     "output_type": "stream",
     "text": [
      "18446744073709551616\n",
      "41\n",
      "3\n"
     ]
    }
   ],
   "source": [
    "print(2 ** 64)     # ** : 거듭제곱\n",
    "print(5048 // 123) # // : 몫\n",
    "print(33 % 5)      # % : 나머지"
   ]
  },
  {
   "cell_type": "markdown",
   "metadata": {},
   "source": [
    "### 논리연산"
   ]
  },
  {
   "cell_type": "code",
   "execution_count": 3,
   "metadata": {},
   "outputs": [
    {
     "name": "stdout",
     "output_type": "stream",
     "text": [
      "True\n",
      "False\n"
     ]
    }
   ],
   "source": [
    "print(True and True)\n",
    "print(True and False)"
   ]
  },
  {
   "cell_type": "code",
   "execution_count": 4,
   "metadata": {},
   "outputs": [
    {
     "name": "stdout",
     "output_type": "stream",
     "text": [
      "True\n",
      "False\n"
     ]
    }
   ],
   "source": [
    "print(True or True)\n",
    "print(True and False)"
   ]
  },
  {
   "cell_type": "code",
   "execution_count": 5,
   "metadata": {},
   "outputs": [
    {
     "name": "stdout",
     "output_type": "stream",
     "text": [
      "False\n",
      "True\n"
     ]
    }
   ],
   "source": [
    "print(not True)\n",
    "print(not False)"
   ]
  },
  {
   "cell_type": "markdown",
   "metadata": {},
   "source": [
    "### 비교연산"
   ]
  },
  {
   "cell_type": "code",
   "execution_count": 6,
   "metadata": {},
   "outputs": [
    {
     "name": "stdout",
     "output_type": "stream",
     "text": [
      "True\n",
      "False\n",
      "True\n",
      "True\n",
      "True\n"
     ]
    }
   ],
   "source": [
    "# 숫자 비교\n",
    "print(5 > 2)   # 5가 2보다 큰지 확인\n",
    "print(1 > 2) # 1이 2보다 큰지 확인\n",
    "print(5 >= 5)  # 5가 5보다 크거나 같은지 확인\n",
    "print(7 == 7)  # 7과 7이 같은지 확인\n",
    "print(7 != 5)  # 7과 5가 다른지 확인"
   ]
  },
  {
   "cell_type": "code",
   "execution_count": 7,
   "metadata": {},
   "outputs": [
    {
     "name": "stdout",
     "output_type": "stream",
     "text": [
      "True\n",
      "False\n",
      "True\n"
     ]
    }
   ],
   "source": [
    "# 문자비교\n",
    "print('Python' == 'Python')\n",
    "print('Python' == 'python')\n",
    "print('Python' != 'python')"
   ]
  },
  {
   "cell_type": "markdown",
   "metadata": {},
   "source": [
    "## 2. 변수\n",
    "- 데이터(문자, 숫자 등)를 넣을 수 있는 상자를 변수, 그 이름이 변수명"
   ]
  },
  {
   "cell_type": "markdown",
   "metadata": {},
   "source": [
    "### 변수선언"
   ]
  },
  {
   "cell_type": "code",
   "execution_count": 8,
   "metadata": {
    "scrolled": true
   },
   "outputs": [
    {
     "name": "stdout",
     "output_type": "stream",
     "text": [
      "python\n"
     ]
    }
   ],
   "source": [
    "a = 'python' # 'python'이라는 문자가 들어있는 변수 'a'가 생성(저장)\n",
    "print(a)"
   ]
  },
  {
   "cell_type": "markdown",
   "metadata": {},
   "source": [
    "### 변수 종류"
   ]
  },
  {
   "cell_type": "code",
   "execution_count": 9,
   "metadata": {},
   "outputs": [
    {
     "data": {
      "text/plain": [
       "('python', 123, 1.2)"
      ]
     },
     "execution_count": 9,
     "metadata": {},
     "output_type": "execute_result"
    }
   ],
   "source": [
    "a = 'python' # 문자열 변수\n",
    "b = 123      # 정수형 변수\n",
    "c = 1.2      # 실수형 변수\n",
    "a, b, c "
   ]
  },
  {
   "cell_type": "markdown",
   "metadata": {},
   "source": [
    "### 여러 가지 변수생성 방법"
   ]
  },
  {
   "cell_type": "code",
   "execution_count": 10,
   "metadata": {
    "scrolled": true
   },
   "outputs": [
    {
     "name": "stdout",
     "output_type": "stream",
     "text": [
      "var1\n",
      "var2\n",
      "('tuple1', 'tuple')\n",
      "['list', 'list']\n"
     ]
    }
   ],
   "source": [
    "a, b = 'var1', 'var2'\n",
    "c = ('tuple1', 'tuple')\n",
    "d = ['list', 'list']\n",
    "\n",
    "print(a)\n",
    "print(b)\n",
    "print(c)\n",
    "print(d)"
   ]
  },
  {
   "cell_type": "markdown",
   "metadata": {},
   "source": [
    "### 데이터 변수 에러\n",
    "- 선언된 변수가 아닌경우 에러 출력"
   ]
  },
  {
   "cell_type": "code",
   "execution_count": 11,
   "metadata": {
    "scrolled": true
   },
   "outputs": [
    {
     "ename": "NameError",
     "evalue": "name 'f' is not defined",
     "output_type": "error",
     "traceback": [
      "\u001b[1;31m---------------------------------------------------------------------------\u001b[0m",
      "\u001b[1;31mNameError\u001b[0m                                 Traceback (most recent call last)",
      "Cell \u001b[1;32mIn[11], line 2\u001b[0m\n\u001b[0;32m      1\u001b[0m a \u001b[38;5;241m=\u001b[39m \u001b[38;5;241m10\u001b[39m \u001b[38;5;66;03m# 변수에 10의 값을 할당\u001b[39;00m\n\u001b[1;32m----> 2\u001b[0m \u001b[43mf\u001b[49m\n",
      "\u001b[1;31mNameError\u001b[0m: name 'f' is not defined"
     ]
    }
   ],
   "source": [
    "a = 10 # 변수에 10의 값을 할당\n",
    "f      # 하지만 f를 호출할 경우 f의 값이 없으므로 에러 출력"
   ]
  },
  {
   "cell_type": "markdown",
   "metadata": {},
   "source": [
    "### 데이터 변수 형태확인"
   ]
  },
  {
   "cell_type": "code",
   "execution_count": 12,
   "metadata": {
    "scrolled": false
   },
   "outputs": [
    {
     "name": "stdout",
     "output_type": "stream",
     "text": [
      "a의 값은?: 10\n",
      "a의 데이터 변수 형태는?: <class 'int'>\n",
      "b의 값은? : 3.14\n",
      "b의 데이터 변수 형태는?: <class 'float'>\n",
      "c의 값은?: True\n",
      "c의 데이터 변수 형태는?: <class 'bool'>\n"
     ]
    }
   ],
   "source": [
    "a = 10    # a 변수에 10의 값을 할당\n",
    "b = 3.14  # b 변수에 3.14의 값을 할당\n",
    "c = True  # c 변수에 True 값을 할당\n",
    "\n",
    "print(\"a의 값은?:\", a)\n",
    "print(\"a의 데이터 변수 형태는?:\", type(a)) # a는 int(정수) 형태의 값을 나타냄\n",
    "print(\"b의 값은? :\", b)\n",
    "print(\"b의 데이터 변수 형태는?:\", type(b)) # b는 float(실수) 형태의 값을 나타냄\n",
    "print(\"c의 값은?:\", c)\n",
    "print('c의 데이터 변수 형태는?:', type(c)) # c는 bloolean(논리형) 형태의 값을 나타냄"
   ]
  },
  {
   "cell_type": "markdown",
   "metadata": {},
   "source": [
    "### 숫자형"
   ]
  },
  {
   "cell_type": "code",
   "execution_count": 13,
   "metadata": {
    "scrolled": true
   },
   "outputs": [
    {
     "name": "stdout",
     "output_type": "stream",
     "text": [
      "100\n",
      "0b1100100\n",
      "0o144\n",
      "0x64\n"
     ]
    }
   ],
   "source": [
    "a = 100       # 정수형 변수\n",
    "b = 3.14      # 실수형 변수\n",
    "\n",
    "print(a)      # 정수\n",
    "print(bin(a)) # 2진수\n",
    "print(oct(a)) # 8진수\n",
    "print(hex(a)) # 16진수"
   ]
  },
  {
   "cell_type": "markdown",
   "metadata": {},
   "source": [
    "### 논리형"
   ]
  },
  {
   "cell_type": "code",
   "execution_count": 14,
   "metadata": {},
   "outputs": [
    {
     "name": "stdout",
     "output_type": "stream",
     "text": [
      "<class 'bool'>\n",
      "<class 'bool'>\n"
     ]
    }
   ],
   "source": [
    "a = True\n",
    "print(type(a))\n",
    "b = False\n",
    "print(type(b))"
   ]
  },
  {
   "cell_type": "code",
   "execution_count": 15,
   "metadata": {
    "scrolled": true
   },
   "outputs": [
    {
     "name": "stdout",
     "output_type": "stream",
     "text": [
      "True\n",
      "False\n",
      "False\n",
      "False\n",
      "True\n",
      "True\n"
     ]
    }
   ],
   "source": [
    "# 비교연산자를 이용한 부울형(논리형) 데이터 표현\n",
    "print(10 == 10) # 두 값이 같을 경우 True 출력\n",
    "print(10 != 10) # 두 값이 다를 경우 True 출력(같을 경우 False 출력)\n",
    "print(10 < 10)  # 우측 값이 큰 경우 True 출력(그렇지 안을 경우 False 출력)\n",
    "print(10 > 10)  # 좌측 값이 큰 경우 True 출력(그렇지 안을 경우 False 출력)\n",
    "print(10 <= 10) # 우측값이 좌측값보다 크거나 같을 경우 True 출력\n",
    "print(10 >= 10) # 좌측값이 좌측값보다 크거나 같을 경우 True 출력"
   ]
  },
  {
   "cell_type": "markdown",
   "metadata": {},
   "source": [
    "### 문자형"
   ]
  },
  {
   "cell_type": "code",
   "execution_count": 16,
   "metadata": {},
   "outputs": [
    {
     "name": "stdout",
     "output_type": "stream",
     "text": [
      "안녕하세요. 반갑습니다.\n",
      "안녕하세요. 안녕하세요. 안녕하세요. \n"
     ]
    }
   ],
   "source": [
    "str1 = '안녕하세요. ' # 끝에 공백 \n",
    "str2 = '반갑습니다.'\n",
    "sentence = str1 + str2\n",
    "print(sentence) # 두 문자형을 더하기\n",
    "print(str1*3)   # 3을 곱하는 경우 3번 반복 출력"
   ]
  },
  {
   "cell_type": "code",
   "execution_count": 17,
   "metadata": {},
   "outputs": [
    {
     "data": {
      "text/plain": [
       "['안녕하세요.', '반갑습니다.']"
      ]
     },
     "execution_count": 17,
     "metadata": {},
     "output_type": "execute_result"
    }
   ],
   "source": [
    "# 문자열 함수 _ split\n",
    "sentence.split() # sentence 변수를 공백 기준으로 나눔"
   ]
  },
  {
   "cell_type": "code",
   "execution_count": 18,
   "metadata": {},
   "outputs": [
    {
     "data": {
      "text/plain": [
       "7"
      ]
     },
     "execution_count": 18,
     "metadata": {},
     "output_type": "execute_result"
    }
   ],
   "source": [
    "# 문자열 함수 _ find\n",
    "sentence.find('반갑습니다.') # '반갑습니다.' 단어의 앞자리 위치 반환(0부터 시작)"
   ]
  },
  {
   "cell_type": "code",
   "execution_count": 19,
   "metadata": {},
   "outputs": [
    {
     "data": {
      "text/plain": [
       "-1"
      ]
     },
     "execution_count": 19,
     "metadata": {},
     "output_type": "execute_result"
    }
   ],
   "source": [
    "sentence.find('python') # sentence 변수에 찾으려는 문자열이 없을 경우 -1 반환"
   ]
  },
  {
   "cell_type": "code",
   "execution_count": 20,
   "metadata": {},
   "outputs": [
    {
     "data": {
      "text/plain": [
       "'안녕하세요! 반갑습니다!'"
      ]
     },
     "execution_count": 20,
     "metadata": {},
     "output_type": "execute_result"
    }
   ],
   "source": [
    "# 문자열 _ replace\n",
    "sentence.replace('.', '!')"
   ]
  },
  {
   "cell_type": "code",
   "execution_count": 21,
   "metadata": {},
   "outputs": [
    {
     "data": {
      "text/plain": [
       "'하세요. 반갑습니다.'"
      ]
     },
     "execution_count": 21,
     "metadata": {},
     "output_type": "execute_result"
    }
   ],
   "source": [
    "# 문자열 _ strip\n",
    "sentence.strip('안녕') # sentence 변수에서 '안녕'이라는 문자 제거"
   ]
  },
  {
   "cell_type": "code",
   "execution_count": 22,
   "metadata": {},
   "outputs": [
    {
     "name": "stdout",
     "output_type": "stream",
     "text": [
      "d\n",
      "i\n",
      "Land Housing Co\n",
      " Housing Corporation\n"
     ]
    }
   ],
   "source": [
    "# 문자열 인덱싱(indexing) 및 슬라이싱(slicing)\n",
    "a = \"Land Housing Corporation\"\n",
    "print(a[3])    # 4번째 문자\n",
    "print(a[-3])   # 뒤에서 3번째 문자\n",
    "print(a[0:15]) # 0~14번째 까지 문자\n",
    "print(a[4:])   # 4번째(space) 이후 문자"
   ]
  },
  {
   "cell_type": "markdown",
   "metadata": {},
   "source": [
    "## 3. 자료구조"
   ]
  },
  {
   "cell_type": "markdown",
   "metadata": {},
   "source": [
    "###  리스트(List)\n",
    "- 리스트 내의 항목은 쉼표(,)로 구분하고 대괄호(([ ])안에 포함\n",
    "- ㄹ스트 항목에 속하는 모든 항목이 서로다른 데이터 유형이 될 수 있음\n",
    "- 리스트 index는 0부터 전체항목수에서 -1한 것까지"
   ]
  },
  {
   "cell_type": "code",
   "execution_count": 23,
   "metadata": {},
   "outputs": [
    {
     "name": "stdout",
     "output_type": "stream",
     "text": [
      "[10, 20, 30, 40, 3.14, '문자']\n",
      "<class 'list'>\n"
     ]
    }
   ],
   "source": [
    "# 리스트 형태\n",
    "list = [10, 20, 30, 40, 3.14, '문자']  # list 생성, list 객체로 저장(할당)\n",
    "print(list)                            # list 값 출력\n",
    "print(type(list))                      # list의 자료 형태 출력"
   ]
  },
  {
   "cell_type": "code",
   "execution_count": 24,
   "metadata": {},
   "outputs": [
    {
     "name": "stdout",
     "output_type": "stream",
     "text": [
      "10\n",
      "3.14\n",
      "[3.14, 20, 30, 40, 3.14, '문자']\n"
     ]
    }
   ],
   "source": [
    "# 인덱싱\n",
    "print(list[0])    # 1번째 원소 출력\n",
    "print(list[4])    # 5번째 원소 출력\n",
    "list[0] = list[4] # 1번째 원소를 5번쨰 원소로 저장\n",
    "print(list)       # 볌경된 list 변수 출력"
   ]
  },
  {
   "cell_type": "code",
   "execution_count": 25,
   "metadata": {},
   "outputs": [
    {
     "name": "stdout",
     "output_type": "stream",
     "text": [
      "['포도', '딸기']\n"
     ]
    }
   ],
   "source": [
    "# 슬라이싱\n",
    "list = [\"사과\", \"배\", \"포도\", \"딸기\", \"토마토\", \"메론\"]\n",
    "print(list[2:4]) # 3~4번째 원소"
   ]
  },
  {
   "cell_type": "code",
   "execution_count": 26,
   "metadata": {},
   "outputs": [
    {
     "name": "stdout",
     "output_type": "stream",
     "text": [
      "[10, 20, 30, 40, 50, 5, 10, 15, 20, 25]\n",
      "[10, 20, 30, 40, 50, 10, 20, 30, 40, 50, 10, 20, 30, 40, 50]\n"
     ]
    }
   ],
   "source": [
    "# 리스트 병합\n",
    "list_1 = [10, 20, 30, 40, 50]\n",
    "list_2 = [5, 10, 15, 20, 25]\n",
    "print(list_1 + list_2) # 리스트 더하기\n",
    "print(list_1*3) # 리스트 곱(곱한 수 만큼 반복)"
   ]
  },
  {
   "cell_type": "code",
   "execution_count": 27,
   "metadata": {},
   "outputs": [
    {
     "name": "stdout",
     "output_type": "stream",
     "text": [
      "[1, 100, 'python']\n",
      "[1, 100, 'python', 'py']\n"
     ]
    }
   ],
   "source": [
    "# 리스트 데이터 추가(append)\n",
    "list = [1, 100, 'python']\n",
    "print(list)\n",
    "list.append('py') # list에 py라는 값을 추가\n",
    "print(list) "
   ]
  },
  {
   "cell_type": "code",
   "execution_count": 28,
   "metadata": {},
   "outputs": [
    {
     "name": "stdout",
     "output_type": "stream",
     "text": [
      "[1, '0.5', 100, 'python']\n"
     ]
    }
   ],
   "source": [
    "# 리스트 데이터 삽입(insert)\n",
    "list = [1, 100, 'python']\n",
    "list.insert(1, '0.5') # 두번째에 '0.5' 값(문자형) 삽입\n",
    "print(list)"
   ]
  },
  {
   "cell_type": "code",
   "execution_count": 29,
   "metadata": {},
   "outputs": [
    {
     "name": "stdout",
     "output_type": "stream",
     "text": [
      "[10, 20, 30, 40, 50, 60, 90]\n"
     ]
    }
   ],
   "source": [
    "# 리스트 데이터 정렬(sort)\n",
    "list = [50, 20, 40, 30, 10, 60, 90]\n",
    "list.sort()\n",
    "print(list)"
   ]
  },
  {
   "cell_type": "markdown",
   "metadata": {},
   "source": [
    "### 튜플(Tuple)\n",
    "- 리스트와 다른 점은 읽기 전용으로, 수정, 삭제 불가"
   ]
  },
  {
   "cell_type": "code",
   "execution_count": 30,
   "metadata": {},
   "outputs": [
    {
     "name": "stdout",
     "output_type": "stream",
     "text": [
      "('사과', '배', '포도', '토마토', '딸기')\n",
      "<class 'tuple'>\n"
     ]
    }
   ],
   "source": [
    "# 튜플의 기본구조\n",
    "tuple = ('사과', '배', '포도', '토마토', '딸기')\n",
    "print(tuple)\n",
    "print(type(tuple))"
   ]
  },
  {
   "cell_type": "code",
   "execution_count": 31,
   "metadata": {},
   "outputs": [
    {
     "ename": "TypeError",
     "evalue": "'tuple' object does not support item assignment",
     "output_type": "error",
     "traceback": [
      "\u001b[1;31m---------------------------------------------------------------------------\u001b[0m",
      "\u001b[1;31mTypeError\u001b[0m                                 Traceback (most recent call last)",
      "Cell \u001b[1;32mIn[31], line 1\u001b[0m\n\u001b[1;32m----> 1\u001b[0m \u001b[38;5;28mtuple\u001b[39m[\u001b[38;5;241m0\u001b[39m] \u001b[38;5;241m=\u001b[39m \u001b[38;5;241m100\u001b[39m\n",
      "\u001b[1;31mTypeError\u001b[0m: 'tuple' object does not support item assignment"
     ]
    }
   ],
   "source": [
    "tuple[0] = 100 # 튜플은 변경될 수 없는 객체로 튜플내 데이터 변경시 에러 출력"
   ]
  },
  {
   "cell_type": "markdown",
   "metadata": {},
   "source": [
    "### 집합(Set)"
   ]
  },
  {
   "cell_type": "code",
   "execution_count": 32,
   "metadata": {},
   "outputs": [
    {
     "name": "stdout",
     "output_type": "stream",
     "text": [
      "{400, 700, 100, 500, 200, 600, 300}\n",
      "<class 'set'>\n"
     ]
    }
   ],
   "source": [
    "# Set 구조\n",
    "data = {100, 200, 300, 400, 500, 600, 700, 200}\n",
    "print(data)\n",
    "print(type(data))"
   ]
  },
  {
   "cell_type": "code",
   "execution_count": 33,
   "metadata": {},
   "outputs": [
    {
     "ename": "TypeError",
     "evalue": "'set' object is not subscriptable",
     "output_type": "error",
     "traceback": [
      "\u001b[1;31m---------------------------------------------------------------------------\u001b[0m",
      "\u001b[1;31mTypeError\u001b[0m                                 Traceback (most recent call last)",
      "Cell \u001b[1;32mIn[33], line 1\u001b[0m\n\u001b[1;32m----> 1\u001b[0m \u001b[43mdata\u001b[49m\u001b[43m[\u001b[49m\u001b[38;5;241;43m0\u001b[39;49m\u001b[43m:\u001b[49m\u001b[38;5;241;43m4\u001b[39;49m\u001b[43m]\u001b[49m\n",
      "\u001b[1;31mTypeError\u001b[0m: 'set' object is not subscriptable"
     ]
    }
   ],
   "source": [
    "data[0:4] # set 자료구조는 인덱싱과 슬라이싱 불가(에러 출력)"
   ]
  },
  {
   "cell_type": "markdown",
   "metadata": {},
   "source": [
    "###  딕셔너리(Dictionary)"
   ]
  },
  {
   "cell_type": "code",
   "execution_count": 34,
   "metadata": {},
   "outputs": [
    {
     "name": "stdout",
     "output_type": "stream",
     "text": [
      "{'Name': '홍길동', 'Email': 'gdHong@naver.com', '주소': '서울시 광진구'}\n",
      "<class 'dict'>\n"
     ]
    }
   ],
   "source": [
    "# 특성 및 구조\n",
    "dict = {'Name':'홍길동', 'Email':'gdHong@naver.com', '주소':'서울시 광진구'}\n",
    "print(dict)\n",
    "print(type(dict))"
   ]
  },
  {
   "cell_type": "code",
   "execution_count": 35,
   "metadata": {},
   "outputs": [
    {
     "name": "stdout",
     "output_type": "stream",
     "text": [
      "dict_keys(['Name', 'Email', '주소'])\n",
      "dict_values(['홍길동', 'gdHong@naver.com', '서울시 광진구'])\n",
      "dict_items([('Name', '홍길동'), ('Email', 'gdHong@naver.com'), ('주소', '서울시 광진구')])\n",
      "홍길동\n",
      "홍길동\n"
     ]
    }
   ],
   "source": [
    "# 항목 검색\n",
    "print(dict.keys()) # key 값 출력\n",
    "print(dict.values()) # value 값 출력\n",
    "print(dict.items()) # key, value값 동시 출력\n",
    "print(dict['Name']) # key가 'Name'인 값을 가져옴\n",
    "print(dict.get('Name')) # 위의 결과와 동일"
   ]
  },
  {
   "cell_type": "code",
   "execution_count": 36,
   "metadata": {},
   "outputs": [
    {
     "name": "stdout",
     "output_type": "stream",
     "text": [
      "{'Name': '홍길동', 'Email': 'gdHong@naver.com', '주소': '서울시 광진구', '사원번호': 12345}\n"
     ]
    }
   ],
   "source": [
    "# 항목 추가\n",
    "dict['사원번호'] = 12345\n",
    "print(dict)"
   ]
  },
  {
   "cell_type": "code",
   "execution_count": 37,
   "metadata": {},
   "outputs": [
    {
     "name": "stdout",
     "output_type": "stream",
     "text": [
      "{'Name': '홍길동', 'Email': 'gdHong@naver.com', '사원번호': 12345}\n"
     ]
    }
   ],
   "source": [
    "# 항목 삭제\n",
    "dict.pop('주소')\n",
    "print(dict)"
   ]
  },
  {
   "cell_type": "code",
   "execution_count": 38,
   "metadata": {},
   "outputs": [
    {
     "name": "stdout",
     "output_type": "stream",
     "text": [
      "{'사과': 300, '배': 200, '포도': 500, '딸기': 700}\n",
      "['딸기', '배', '사과', '포도']\n",
      "[200, 300, 500, 700]\n",
      "{'사과': 300, '배': 200, '포도': 500, '딸기': 700}\n"
     ]
    }
   ],
   "source": [
    "# 항목 정렬\n",
    "data = {'사과':300, '배':200, '포도':500, '딸기':700}\n",
    "print(data)\n",
    "print(sorted(data)) # keys 항목을 오름차순으로 정렬\n",
    "print(sorted(data.values())) # values 값을 오림차순으로 정렬\n",
    "print(data) # 원래의 data는 변경 없음"
   ]
  },
  {
   "cell_type": "markdown",
   "metadata": {},
   "source": [
    "## 4. 제어문 및 반복문"
   ]
  },
  {
   "cell_type": "markdown",
   "metadata": {},
   "source": [
    "### if 조건문"
   ]
  },
  {
   "cell_type": "code",
   "execution_count": 39,
   "metadata": {},
   "outputs": [
    {
     "name": "stdout",
     "output_type": "stream",
     "text": [
      "일치\n"
     ]
    }
   ],
   "source": [
    "# if ~ else\n",
    "# if ~ else 명령을 사용하면 조건에 따라 다른 명령을 수행\n",
    "# 변수 a가 100이라는 조건이 맞으면 '일치', 아니면 '불일치'출력\n",
    "\n",
    "a = 100 # 변수 a에 초기값 100으로 저장(변경할 수 있음)\n",
    "\n",
    "if a == 100 :\n",
    "    print('일치')\n",
    "else :\n",
    "    print('불일치')"
   ]
  },
  {
   "cell_type": "code",
   "execution_count": 40,
   "metadata": {},
   "outputs": [
    {
     "name": "stdout",
     "output_type": "stream",
     "text": [
      "지하철타고 가자!\n"
     ]
    }
   ],
   "source": [
    "# if~elif~else\n",
    "# 조건으로 나누어야 할 경우의 수가 여러 가지일 때 사용\n",
    "\n",
    "money = 4500\n",
    "\n",
    "if money >= 5000:\n",
    "    print(\"택시 타고 가자!\")\n",
    "elif money >= 4000:\n",
    "    print(\"지하철타고 가자!\")\n",
    "else :\n",
    "    print(\"그냥 걸어가자!\")"
   ]
  },
  {
   "cell_type": "markdown",
   "metadata": {},
   "source": [
    "### 반복문"
   ]
  },
  {
   "cell_type": "code",
   "execution_count": 41,
   "metadata": {},
   "outputs": [
    {
     "name": "stdout",
     "output_type": "stream",
     "text": [
      "1\n",
      "2\n",
      "3\n"
     ]
    }
   ],
   "source": [
    "# while 반복문 예제1\n",
    "a = 1\n",
    "while a <=3 : # 변수 a가 3이하가 될 때 까지 반복\n",
    "    print(a) # 변수 a 출력\n",
    "    a += 1 # 변수 a에 1씩 더함 "
   ]
  },
  {
   "cell_type": "code",
   "execution_count": 42,
   "metadata": {},
   "outputs": [
    {
     "name": "stdout",
     "output_type": "stream",
     "text": [
      "apple\n",
      "banana\n",
      "bread\n"
     ]
    }
   ],
   "source": [
    "# while 반복문 예제2(리스트 출력)\n",
    "food = [\"apple\", \"banana\", \"bread\"]\n",
    "i=0\n",
    "while i < len(food) :\n",
    "    print(food[i])\n",
    "    i = i+1"
   ]
  },
  {
   "cell_type": "code",
   "execution_count": 43,
   "metadata": {},
   "outputs": [
    {
     "name": "stdout",
     "output_type": "stream",
     "text": [
      "55\n"
     ]
    }
   ],
   "source": [
    "# for 반복문 예제1\n",
    "# 1~10까지 숫자의 합계 구하기\n",
    "sum = 0\n",
    "for i in range(11) :\n",
    "    sum = sum+i\n",
    "print(sum)"
   ]
  },
  {
   "cell_type": "code",
   "execution_count": 44,
   "metadata": {
    "scrolled": true
   },
   "outputs": [
    {
     "name": "stdout",
     "output_type": "stream",
     "text": [
      "land houning corporation "
     ]
    }
   ],
   "source": [
    "# for 반복문 예제2(리스트 출력)\n",
    "list = ['land', 'houning', 'corporation']\n",
    "for s in list:\n",
    "    print(s, end=' ') # 줄 바꿈 없이 가로로 space로 구분 출력"
   ]
  },
  {
   "cell_type": "markdown",
   "metadata": {},
   "source": [
    "## 5. 함수\n",
    "- def 키워드를 사용해 함수를 정의\n",
    "- 함수 식별자(함수 이름) 다음에 괄호와 콜론을 작성\n",
    "- 그런 다음, 탭 또는 공백 4개로 들여쓰기(indent)를 작성 후 함수에서   \n",
    "실행하려는 기능을 코드로 지정"
   ]
  },
  {
   "cell_type": "code",
   "execution_count": 45,
   "metadata": {},
   "outputs": [
    {
     "data": {
      "text/plain": [
       "12"
      ]
     },
     "execution_count": 45,
     "metadata": {},
     "output_type": "execute_result"
    }
   ],
   "source": [
    "# 함수사용 예제1(def 사용)\n",
    "\n",
    "def f(x) : # 함수 f(x)를 생성하고 s의 값을 입력 받음\n",
    "    return x+10 # 함수 실행시 결과값은 x에 10을 더한 값 return\n",
    "f(2)"
   ]
  },
  {
   "cell_type": "code",
   "execution_count": 46,
   "metadata": {},
   "outputs": [
    {
     "data": {
      "text/plain": [
       "12"
      ]
     },
     "execution_count": 46,
     "metadata": {},
     "output_type": "execute_result"
    }
   ],
   "source": [
    "# 함수사용 예제2(lambda 사용)\n",
    "\n",
    "f = lambda x : x+10\n",
    "f(2) # def와 동일 결과"
   ]
  },
  {
   "cell_type": "code",
   "execution_count": 47,
   "metadata": {},
   "outputs": [
    {
     "data": {
      "text/plain": [
       "'Adult'"
      ]
     },
     "execution_count": 47,
     "metadata": {},
     "output_type": "execute_result"
    }
   ],
   "source": [
    "# 함수사용 예제3 (카테고리 변수 생성)\n",
    "\n",
    "def get_category(age):\n",
    "    if age <=18 :\n",
    "        return 'Child'\n",
    "    elif age <=60 :\n",
    "        return 'Adult'\n",
    "    else:\n",
    "        return 'Elderly'\n",
    "get_category(25)"
   ]
  },
  {
   "cell_type": "code",
   "execution_count": 48,
   "metadata": {},
   "outputs": [
    {
     "name": "stdout",
     "output_type": "stream",
     "text": [
      "두 숫자를 더합니다.\n"
     ]
    },
    {
     "data": {
      "text/plain": [
       "6"
      ]
     },
     "execution_count": 48,
     "metadata": {},
     "output_type": "execute_result"
    }
   ],
   "source": [
    "# 함수사용 예제4 (인자 2개)\n",
    "\n",
    "def func(a, b) :\n",
    "    print('두 숫자를 더합니다.')\n",
    "    return a+b\n",
    "\n",
    "func(1,5)"
   ]
  },
  {
   "cell_type": "code",
   "execution_count": 49,
   "metadata": {},
   "outputs": [
    {
     "data": {
      "text/plain": [
       "6"
      ]
     },
     "execution_count": 49,
     "metadata": {},
     "output_type": "execute_result"
    }
   ],
   "source": [
    "# 함수사용 예제5 (인자 2개, lambda 사용)\n",
    "\n",
    "func = lambda a, b : a+b\n",
    "func(1, 5)"
   ]
  },
  {
   "cell_type": "code",
   "execution_count": 50,
   "metadata": {},
   "outputs": [
    {
     "name": "stdout",
     "output_type": "stream",
     "text": [
      "문장, 단어를 입력하세요: 문장, 단어입력\n",
      "문장, 단어입력\n"
     ]
    }
   ],
   "source": [
    "# Built-in 함수 중 대표함수인 input과 print\n",
    "\n",
    "text = input('문장, 단어를 입력하세요: ')\n",
    "print(text)"
   ]
  }
 ],
 "metadata": {
  "kernelspec": {
   "display_name": "Python 3 (ipykernel)",
   "language": "python",
   "name": "python3"
  },
  "language_info": {
   "codemirror_mode": {
    "name": "ipython",
    "version": 3
   },
   "file_extension": ".py",
   "mimetype": "text/x-python",
   "name": "python",
   "nbconvert_exporter": "python",
   "pygments_lexer": "ipython3",
   "version": "3.10.9"
  }
 },
 "nbformat": 4,
 "nbformat_minor": 4
}
